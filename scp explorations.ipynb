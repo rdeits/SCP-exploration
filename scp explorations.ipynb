{
 "metadata": {
  "name": ""
 },
 "nbformat": 3,
 "nbformat_minor": 0,
 "worksheets": [
  {
   "cells": [
    {
     "cell_type": "markdown",
     "metadata": {},
     "source": [
      "World consists of a field of obstacles of size r_obs, and a circular foot of size r_foot. "
     ]
    }
   ],
   "metadata": {}
  }
 ]
}