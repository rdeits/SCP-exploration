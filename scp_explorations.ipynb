{
 "metadata": {
  "name": ""
 },
 "nbformat": 3,
 "nbformat_minor": 0,
 "worksheets": [
  {
   "cells": [
    {
     "cell_type": "code",
     "collapsed": false,
     "input": [
      "from __future__ import division, print_function\n",
      "from IPython.display import clear_output"
     ],
     "language": "python",
     "metadata": {},
     "outputs": [],
     "prompt_number": 4
    },
    {
     "cell_type": "code",
     "collapsed": false,
     "input": [
      "%load_ext autoreload\n",
      "%autoreload 2"
     ],
     "language": "python",
     "metadata": {},
     "outputs": [
      {
       "output_type": "stream",
       "stream": "stdout",
       "text": [
        "The autoreload extension is already loaded. To reload it, use:\n",
        "  %reload_ext autoreload\n"
       ]
      }
     ],
     "prompt_number": 5
    },
    {
     "cell_type": "markdown",
     "metadata": {},
     "source": [
      "Point robot with circular obstacles. Minimize total distance traveled. \n",
      "\n",
      "Obstacle class with pt and size. \n",
      "\n",
      "Trajopt class with grb_model, states, slacks, constraints, objective\n",
      "\n",
      "Each constraint is a Constraint with eval (returns value and gradient), linearize (returns a gurobi constraint), name\n",
      "\n",
      "Objective has eval and quadratic (returns gurobi objective)\n",
      "\n"
     ]
    },
    {
     "cell_type": "code",
     "collapsed": false,
     "input": [
      "from trajopt.trajopt import Trajopt\n",
      "from trajopt.constraint import Constraint, Point"
     ],
     "language": "python",
     "metadata": {},
     "outputs": [],
     "prompt_number": 16
    },
    {
     "cell_type": "code",
     "collapsed": false,
     "input": [
      "from collections import namedtuple"
     ],
     "language": "python",
     "metadata": {},
     "outputs": [],
     "prompt_number": 17
    },
    {
     "cell_type": "code",
     "collapsed": false,
     "input": [
      "import numpy as np\n",
      "import gurobipy as grb"
     ],
     "language": "python",
     "metadata": {},
     "outputs": [],
     "prompt_number": 18
    },
    {
     "cell_type": "code",
     "collapsed": false,
     "input": [
      "Obstacle = namedtuple('Obstacle', 'pt size')"
     ],
     "language": "python",
     "metadata": {},
     "outputs": [],
     "prompt_number": 19
    },
    {
     "cell_type": "code",
     "collapsed": false,
     "input": [
      "random.random((2,1))"
     ],
     "language": "python",
     "metadata": {},
     "outputs": [
      {
       "metadata": {},
       "output_type": "pyout",
       "prompt_number": 20,
       "text": [
        "array([[ 0.40808341],\n",
        "       [ 0.08364104]])"
       ]
      }
     ],
     "prompt_number": 20
    },
    {
     "cell_type": "code",
     "collapsed": false,
     "input": [
      "obstacles = []\n",
      "while len(obstacles) < 20:\n",
      "    new_pt = Point(random.random((2,)) * array([3, 3]) + array([1, -1.5]))\n",
      "    new_radius = random.random() * 0.5\n",
      "    overlap = False\n",
      "    for obs in obstacles:\n",
      "        if norm(new_pt - obs.pt) < (obs.size + new_radius):\n",
      "            overlap = True\n",
      "            break\n",
      "    if not overlap:\n",
      "        obstacles.append(Obstacle(new_pt, new_radius))\n",
      "\n",
      "t = Trajopt(Point([0,0]), Point([5,0]), obstacles, 10)"
     ],
     "language": "python",
     "metadata": {},
     "outputs": [],
     "prompt_number": 95
    },
    {
     "cell_type": "code",
     "collapsed": false,
     "input": [
      "ion()\n",
      "f = figure()\n",
      "ax = f.add_subplot(111)\n",
      "axis('equal')\n",
      "path = []\n",
      "def callback(x):\n",
      "    path = t.draw(x, ax)\n",
      "    clear_output()\n",
      "    display(f)\n",
      "xstar, ok = t.run_scp(t.x0, callback)\n",
      "clear_output()\n",
      "if ok:\n",
      "    print(\"Finished successfully\")\n",
      "else:\n",
      "    print(\"Could not satisfy obstacle constraints\")"
     ],
     "language": "python",
     "metadata": {},
     "outputs": [
      {
       "output_type": "stream",
       "stream": "stdout",
       "text": [
        "Finished successfully\n"
       ]
      },
      {
       "metadata": {},
       "output_type": "display_data",
       "png": "[encoded data removed]",
       "text": [
        "<matplotlib.figure.Figure at 0x3b50490>"
       ]
      }
     ],
     "prompt_number": 96
    },
    {
     "cell_type": "code",
     "collapsed": false,
     "input": [],
     "language": "python",
     "metadata": {},
     "outputs": []
    }
   ],
   "metadata": {}
  }
 ]
}