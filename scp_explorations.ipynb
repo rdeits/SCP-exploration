{
 "metadata": {
  "name": ""
 },
 "nbformat": 3,
 "nbformat_minor": 0,
 "worksheets": [
  {
   "cells": [
    {
     "cell_type": "markdown",
     "metadata": {},
     "source": [
      "Point robot with circular obstacles. Minimize total distance traveled. \n",
      "\n",
      "Obstacle class with pt and size. \n",
      "\n",
      "Trajopt class with grb_model, states, slacks, constraints, objective\n",
      "\n",
      "Each constraint is a Constraint with eval (returns value and gradient), linearize (returns a gurobi constraint), name\n",
      "\n",
      "Objective has eval and quadratic (returns gurobi objective)\n",
      "\n"
     ]
    },
    {
     "cell_type": "code",
     "collapsed": false,
     "input": [
      "from collections import namedtuple\n",
      "from functools import partial"
     ],
     "language": "python",
     "metadata": {},
     "outputs": [],
     "prompt_number": 91
    },
    {
     "cell_type": "code",
     "collapsed": false,
     "input": [
      "import gurobipy as grb\n",
      "import numpy as np\n",
      "from pandas import DataFrame, Series"
     ],
     "language": "python",
     "metadata": {},
     "outputs": [],
     "prompt_number": 35
    },
    {
     "cell_type": "code",
     "collapsed": false,
     "input": [
      "Obstacle = namedtuple('Obstacle', 'pt size')"
     ],
     "language": "python",
     "metadata": {},
     "outputs": [],
     "prompt_number": 55
    },
    {
     "cell_type": "code",
     "collapsed": false,
     "input": [
      "def Point(xy):\n",
      "    x,y = xy\n",
      "    return Series({'x':x, 'y':y})"
     ],
     "language": "python",
     "metadata": {},
     "outputs": [],
     "prompt_number": 87
    },
    {
     "cell_type": "code",
     "collapsed": false,
     "input": [
      "class OptVar:\n",
      "    __slots__ = ['name', 'val', 'ub', 'lb', 'grb']\n",
      "    def __init__(self, name, val, ub=np.inf, lb=-np.inf):\n",
      "        self.name = name\n",
      "        self.val = val\n",
      "        self.ub = ub\n",
      "        self.lb = lb"
     ],
     "language": "python",
     "metadata": {},
     "outputs": [],
     "prompt_number": 37
    },
    {
     "cell_type": "raw",
     "metadata": {},
     "source": [
      "class ObstacleConstraint:\n",
      "    __slots__ = ['step_ndx', 'obstacle']\n",
      "    \n",
      "    def __init__(self, step_ndx, slack_ndx, obstacle):\n",
      "        self.step_ndx = step_ndx\n",
      "        self.slack_ndx = slack_ndx\n",
      "        self.obstacle = obstacle\n",
      "        \n",
      "    def eval(self, knots):\n",
      "        distance, n, alpha = self.get_dist(knots)\n",
      "        return self.obstacle.size - distance\n",
      "    \n",
      "    def get_dist(self, knots):\n",
      "        pa = Point(knots[self.step_ndx[0]][0].val, knots[self.step_ndx[0]][1].val)\n",
      "        pb = Point(knots[self.step_ndx[1]][0].val, knots[self.step_ndx[1]][1].val)\n",
      "        \n",
      "        po = self.obstacle.pt\n",
      "        \n",
      "        if all(pb == pa):\n",
      "            n = pa - po \n",
      "            distance = norm(n)\n",
      "            alpha = (0.5, 0.5)\n",
      "        else:\n",
      "            u = pb - pa\n",
      "            u = u / norm(u)\n",
      "            a = array([-u[1], u[0]])\n",
      "            b = a.dot(pta)\n",
      "            \n",
      "            g = a.dot(po) - b\n",
      "            \n",
      "            delta1 = u.dot(po) - u.dot(pa)\n",
      "            delta2 = u.dot(po) - u.dot(pb)\n",
      "            \n",
      "            if sign(delta1) == sign(delta2):\n",
      "                if sign(delta1) == 1:\n",
      "                    alpha = [0,1]\n",
      "                    n = pb - po\n",
      "                    distance = norm(n)\n",
      "                else:\n",
      "                    alpha = [1,0]\n",
      "                    n = pa - po\n",
      "                    distance = norm(n)\n",
      "            else:\n",
      "                if g >= 0:\n",
      "                    n = -a\n",
      "                else:\n",
      "                    n = a\n",
      "                distance = abs(g)\n",
      "                alpha = [abs(delta2) / (abs(delta1) + abs(delta2)), abs(delta1) / (abs(delta1) + abs(delta2))]\n",
      "        return distance, n, alpha\n",
      "    \n",
      "    def linearize(self, model, knots, slacks, d_check):\n",
      "        distance, n, alpha = self.eval(knots)\n",
      "        if self.obstacle.size - distance > d_check:\n",
      "            model.addConstr(self.obstacle.size - (distance + alpha[0] * (n[0] * knots[self.step_ndx[0]][0].grb \n",
      "                                                                        + n[1] * knots[self.step_ndx[0]][1].grb)\n",
      "                                                           + alpha[1] * (n[0] * knots[self.step_ndx[1]][0].grb\n",
      "                                                                        + n[1] * knots[self.step_ndx[1]][1].grb))\n",
      "                                              <= slacks[self.step_ndx][self.slack_ndx])\n",
      "        return model\n",
      "                    "
     ]
    },
    {
     "cell_type": "code",
     "collapsed": false,
     "input": [
      "class Trajopt:\n",
      "    mu_0 = 1\n",
      "    s_0 = 1\n",
      "    c = 0.8\n",
      "    tau_plus = 1.5\n",
      "    tau_minus = 0.5\n",
      "    k = 2\n",
      "    ftol = 2e-4\n",
      "    xtol = 0.01\n",
      "    ctol = 0\n",
      "    dim = 2\n",
      "    \n",
      "    def __init__(self, p0, pf, obstacles, num_knots):\n",
      "        num_slacks = (num_knots - 1) * len(obstacles)\n",
      "        num_step_vars = self.dim * num_knots\n",
      "        self.nv = num_step_vars + num_slacks\n",
      "        self.steps_i = array(range(num_step_vars)).reshape((-1,self.dim)).T\n",
      "        self.slacks_i = array(range(num_step_vars, num_step_vars + num_slacks))\n",
      "\n",
      "        self.initialize(p0, pf)\n",
      "        self.build_constraints(obstacles)\n",
      "    \n",
      "    def initialize(self, p0, pf):\n",
      "        nsteps = self.steps_i.shape[1]\n",
      "        nslacks = self.slacks_i.shape[0]\n",
      "        self.x = zeros(self.nv)\n",
      "        self.lb = zeros_like(self.x)\n",
      "        self.ub = zeros_like(self.x)\n",
      "        \n",
      "        px0 = linspace(p0[0], pf[0], nsteps)\n",
      "        py0 = linspace(p0[1], pf[1], nsteps)\n",
      "        steps0 = vstack((px0, py0))\n",
      "        steps_lb = -inf * ones_like(steps0)\n",
      "        steps_ub = inf * ones_like(steps0)\n",
      "        steps_lb[:,0] = p0\n",
      "        steps_ub[:,0] = p0\n",
      "        steps_lb[:,-1] = pf\n",
      "        steps_ub[:,-1] = pf\n",
      "        for i in range(steps0.shape[1]):\n",
      "            self.x[self.steps_i[:,i]] = steps0[:,i]\n",
      "            self.lb[self.steps_i[:,i]] = steps_lb[:,i]\n",
      "            self.ub[self.steps_i[:,i]] = steps_ub[:,i]\n",
      "        \n",
      "        t0 = zeros(nslacks)\n",
      "        t_lb = zeros_like(t0)\n",
      "        t_ub = inf * ones_like(t0)\n",
      "        for i, ti in enumerate(t0):\n",
      "            self.x[self.slacks_i[i]] = ti\n",
      "            self.lb[self.slacks_i[i]] = t_lb[i]\n",
      "            self.ub[self.slacks_i[i]] = t_ub[i]\n",
      "        return self\n",
      "        \n",
      "    def build_constraints(self, obstacles):\n",
      "        self.obstacle_constraints = []\n",
      "        slack_num = 0\n",
      "        for i in range(self.steps_i.shape[1]-1):\n",
      "            for obs in obstacles:\n",
      "                self.obstacle_constraints.append(Constraint.from_obstacle(obs, \n",
      "                                                                          self.steps_i[:,i], \n",
      "                                                                          self.steps_i[:,i+1], \n",
      "                                                                          self.slacks_i[slack_num]))\n",
      "                slack_num += 1\n",
      "        return self"
     ],
     "language": "python",
     "metadata": {},
     "outputs": [],
     "prompt_number": 161
    },
    {
     "cell_type": "code",
     "collapsed": false,
     "input": [
      "t = Trajopt(Point([0,0]), Point([5,0]), [Obstacle(Point([2,0.001]), 0.1)], 3)\n",
      "print(t.x)\n",
      "print(t.lb)\n",
      "print(t.obstacle_constraints[0](t.x))"
     ],
     "language": "python",
     "metadata": {},
     "outputs": [
      {
       "output_type": "stream",
       "stream": "stdout",
       "text": [
        "[ 0.   0.   2.5  0.   5.   0.   0.   0. ]\n",
        "[  0.   0. -inf -inf   5.   0.   0.   0.]\n",
        "(0.099000000000000005, array([-0. ,  0.2, -0. ,  0.8, -0. , -0. , -1. , -0. ]))\n"
       ]
      }
     ],
     "prompt_number": 164
    },
    {
     "cell_type": "code",
     "collapsed": false,
     "input": [
      "array(range(6)).reshape((-1,2)).T"
     ],
     "language": "python",
     "metadata": {},
     "outputs": [
      {
       "metadata": {},
       "output_type": "pyout",
       "prompt_number": 158,
       "text": [
        "array([[0, 2, 4],\n",
        "       [1, 3, 5]])"
       ]
      }
     ],
     "prompt_number": 158
    },
    {
     "cell_type": "code",
     "collapsed": false,
     "input": [
      "a[0]"
     ],
     "language": "python",
     "metadata": {},
     "outputs": [
      {
       "metadata": {},
       "output_type": "pyout",
       "prompt_number": 156,
       "text": [
        "array([0, 1, 2])"
       ]
      }
     ],
     "prompt_number": 156
    },
    {
     "cell_type": "code",
     "collapsed": false,
     "input": [],
     "language": "python",
     "metadata": {},
     "outputs": []
    },
    {
     "cell_type": "code",
     "collapsed": false,
     "input": [
      "class Constraint:\n",
      "    def __init__(self, f):\n",
      "        self.f = f\n",
      "        \n",
      "    def __call__(self, x):\n",
      "        return self.f(x)\n",
      "    \n",
      "    def linearize(self, x0):\n",
      "        \"\"\"\n",
      "        c0 = g(x0)\n",
      "        dc0 = dg(x)/dx|x0\n",
      "        c ~ c0 + dc0'*(x-x0) = (c0 - dc0'*x0) + dc0'*x\n",
      "        \n",
      "        c <= 0 --> dc0'*x <= dc0'*x0 - c0\n",
      "        \"\"\"\n",
      "        \n",
      "        c0, dc0 = self.f(x0)\n",
      "        A = dc0\n",
      "        b = dc0.T.dot(x0) - c0\n",
      "        return A, b\n",
      "    \n",
      "    @classmethod\n",
      "    def from_obstacle(cls, obstacle, step0, step1, slack):\n",
      "        step0 = Point(step0)\n",
      "        step1 = Point(step1)\n",
      "        def constraint_fun(x):\n",
      "            pa = Point(x[step0])\n",
      "            pb = Point(x[step1])\n",
      "            po = obstacle.pt\n",
      "            t = x[slack]\n",
      "            nv = len(x)\n",
      "            \n",
      "            if all(pb == pa):\n",
      "                n = pa - po \n",
      "                distance = norm(n)\n",
      "                alpha = (0.5, 0.5)\n",
      "            else:\n",
      "                u = pb - pa\n",
      "                u = u / norm(u)\n",
      "                a = array([-u[1], u[0]])\n",
      "                b = a.dot(pa)\n",
      "                \n",
      "                g = a.dot(po) - b\n",
      "                \n",
      "                delta1 = u.dot(po) - u.dot(pa)\n",
      "                delta2 = u.dot(po) - u.dot(pb)\n",
      "                \n",
      "                if sign(delta1) == sign(delta2):\n",
      "                    if sign(delta1) == 1:\n",
      "                        alpha = [0,1]\n",
      "                        n = pb - po\n",
      "                        distance = norm(n)\n",
      "                    else:\n",
      "                        alpha = [1,0]\n",
      "                        n = pa - po\n",
      "                        distance = norm(n)\n",
      "                else:\n",
      "                    if g >= 0:\n",
      "                        n = -a\n",
      "                    else:\n",
      "                        n = a\n",
      "                    distance = abs(g)\n",
      "                    alpha = [abs(delta2) / (abs(delta1) + abs(delta2)), abs(delta1) / (abs(delta1) + abs(delta2))]\n",
      "            c = obstacle.size - distance - t\n",
      "            J_pa = zeros((2,nv))\n",
      "            J_pa[0,step0['x']] = 1\n",
      "            J_pa[1,step0['y']] = 1\n",
      "            J_pb = zeros((2,nv))\n",
      "            J_pb[0,step1['x']] = 1\n",
      "            J_pb[1,step1['y']] = 1\n",
      "            dc = -(alpha[0] * n.T.dot(J_pa) + alpha[1] * n.T.dot(J_pb))\n",
      "            dc[slack] = -1\n",
      "            return c, dc\n",
      "        return cls(constraint_fun)"
     ],
     "language": "python",
     "metadata": {},
     "outputs": [],
     "prompt_number": 146
    },
    {
     "cell_type": "code",
     "collapsed": false,
     "input": [
      "x = array([0,0,1,0,0,0])\n",
      "obs = Obstacle(Point([0.5,1]), 1)\n",
      "con0 = Constraint.from_obstacle(obs, [0,1], [2,3], 4)\n",
      "con1 = Constraint.from_obstacle(Obstacle(Point([0.5,-1]), 1.5), [0,1], [2,3], 5)"
     ],
     "language": "python",
     "metadata": {},
     "outputs": [],
     "prompt_number": 108
    },
    {
     "cell_type": "code",
     "collapsed": false,
     "input": [
      "b = a.reshape((2,10))"
     ],
     "language": "python",
     "metadata": {},
     "outputs": [],
     "prompt_number": 125
    },
    {
     "cell_type": "code",
     "collapsed": false,
     "input": [
      "b.reshape((-1,20))"
     ],
     "language": "python",
     "metadata": {},
     "outputs": [
      {
       "metadata": {},
       "output_type": "pyout",
       "prompt_number": 131,
       "text": [
        "array([[ 1.,  1.,  1.,  1.,  1.,  1.,  1.,  1.,  1.,  1.,  1.,  1.,  1.,\n",
        "         1.,  1.,  1.,  1.,  1.,  1.,  1.]])"
       ]
      }
     ],
     "prompt_number": 131
    },
    {
     "cell_type": "code",
     "collapsed": false,
     "input": [],
     "language": "python",
     "metadata": {},
     "outputs": []
    }
   ],
   "metadata": {}
  }
 ]
}