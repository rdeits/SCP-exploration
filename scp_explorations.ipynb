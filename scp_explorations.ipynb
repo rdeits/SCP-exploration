{
 "metadata": {
  "name": ""
 },
 "nbformat": 3,
 "nbformat_minor": 0,
 "worksheets": [
  {
   "cells": [
    {
     "cell_type": "code",
     "collapsed": false,
     "input": [
      "from __future__ import division, print_function"
     ],
     "language": "python",
     "metadata": {},
     "outputs": [],
     "prompt_number": 8
    },
    {
     "cell_type": "code",
     "collapsed": false,
     "input": [
      "%load_ext autoreload\n",
      "%autoreload 2"
     ],
     "language": "python",
     "metadata": {},
     "outputs": [
      {
       "output_type": "stream",
       "stream": "stdout",
       "text": [
        "The autoreload extension is already loaded. To reload it, use:\n",
        "  %reload_ext autoreload\n"
       ]
      }
     ],
     "prompt_number": 9
    },
    {
     "cell_type": "markdown",
     "metadata": {},
     "source": [
      "Point robot with circular obstacles. Minimize total distance traveled. \n",
      "\n",
      "Obstacle class with pt and size. \n",
      "\n",
      "Trajopt class with grb_model, states, slacks, constraints, objective\n",
      "\n",
      "Each constraint is a Constraint with eval (returns value and gradient), linearize (returns a gurobi constraint), name\n",
      "\n",
      "Objective has eval and quadratic (returns gurobi objective)\n",
      "\n"
     ]
    },
    {
     "cell_type": "code",
     "collapsed": false,
     "input": [
      "from trajopt import Trajopt, Constraint"
     ],
     "language": "python",
     "metadata": {},
     "outputs": [],
     "prompt_number": 26
    },
    {
     "cell_type": "code",
     "collapsed": false,
     "input": [
      "from collections import namedtuple"
     ],
     "language": "python",
     "metadata": {},
     "outputs": [],
     "prompt_number": 27
    },
    {
     "cell_type": "code",
     "collapsed": false,
     "input": [
      "import numpy as np"
     ],
     "language": "python",
     "metadata": {},
     "outputs": [],
     "prompt_number": 28
    },
    {
     "cell_type": "code",
     "collapsed": false,
     "input": [
      "Obstacle = namedtuple('Obstacle', 'pt size')"
     ],
     "language": "python",
     "metadata": {},
     "outputs": [],
     "prompt_number": 29
    },
    {
     "cell_type": "code",
     "collapsed": false,
     "input": [
      "t = Trajopt(Point([0,0]), Point([5,0]), [Obstacle(Point([2,0.001]), 0.1)], 3)\n",
      "print(t.x)\n",
      "print(t.lb)\n",
      "print(t.obstacle_constraints[0](t.x))"
     ],
     "language": "python",
     "metadata": {},
     "outputs": [
      {
       "output_type": "stream",
       "stream": "stdout",
       "text": [
        "[ 0.   0.   2.5  0.   5.   0.   0.   0. ]\n",
        "[  0.   0. -inf -inf   5.   0.   0.   0.]\n",
        "(0.099000000000000005, array([-0. ,  0.2, -0. ,  0.8, -0. , -0. , -1. , -0. ]))\n"
       ]
      }
     ],
     "prompt_number": 30
    },
    {
     "cell_type": "code",
     "collapsed": false,
     "input": [
      "x = array([0,0,1,0,0,0])\n",
      "obs = Obstacle(Point([0.5,1]), 1)\n",
      "con0 = Constraint.from_obstacle(obs, [0,1], [2,3], 4)\n",
      "con1 = Constraint.from_obstacle(Obstacle(Point([0.5,-1]), 1.5), [0,1], [2,3], 5)"
     ],
     "language": "python",
     "metadata": {},
     "outputs": [],
     "prompt_number": 18
    },
    {
     "cell_type": "code",
     "collapsed": false,
     "input": [],
     "language": "python",
     "metadata": {},
     "outputs": [],
     "prompt_number": 18
    }
   ],
   "metadata": {}
  }
 ]
}